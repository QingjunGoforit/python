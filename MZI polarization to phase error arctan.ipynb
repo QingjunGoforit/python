{
 "cells": [
  {
   "cell_type": "code",
   "execution_count": null,
   "metadata": {},
   "outputs": [],
   "source": []
  }
 ],
 "metadata": {
  "kernelspec": {
   "display_name": "Python 3",
   "language": "python",
   "name": "python3"
  },
  "language_info": {
   "name": "python",
   "version": "3.9.16"
  },
  "orig_nbformat": 4,
  "vscode": {
   "interpreter": {
    "hash": "20a96313f771840bf976f176cd15c40d09e028669e061af14c574218c675e414"
   }
  }
 },
 "nbformat": 4,
 "nbformat_minor": 2
}
