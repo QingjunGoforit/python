{
 "cells": [
  {
   "cell_type": "code",
   "execution_count": 1,
   "id": "c1b3aae6-e0b4-4b43-8291-7656eabcf862",
   "metadata": {},
   "outputs": [],
   "source": [
    "import ipywidgets as widgets\n",
    "from ipywidgets import interact, interactive, fixed, interact_manual\n",
    "import time \n",
    "from traitlets import traitlets"
   ]
  },
  {
   "cell_type": "code",
   "execution_count": 2,
   "id": "7e067dff-1f09-4af8-accf-03bebde5de0d",
   "metadata": {},
   "outputs": [],
   "source": [
    "import thirtysixpoints\n",
    "from thirtysixpoints import *\n",
    "import pandas as pd"
   ]
  },
  {
   "cell_type": "code",
   "execution_count": 3,
   "id": "1752a023-4dc4-4198-8c86-0202ab1b75b4",
   "metadata": {},
   "outputs": [
    {
     "name": "stdout",
     "output_type": "stream",
     "text": [
      "analyzeData\n",
      "calculateFidelities\n",
      "climbVoltage\n",
      "fidelity\n",
      "filename\n",
      "hdf5file\n",
      "iforgot\n",
      "initializePSCOAXI\n",
      "initializePSCOAXJ\n",
      "makePath\n",
      "oscopeGrab\n",
      "plotMatrix\n",
      "pretune\n",
      "printFilelist\n",
      "setAllZero\n",
      "setPSIZero\n",
      "setPSJZero\n",
      "setVoltage\n",
      "setZero\n"
     ]
    }
   ],
   "source": [
    "# Get a list of all members of the module and their types\n",
    "members = inspect.getmembers(thirtysixpoints)\n",
    "\n",
    "# Filter the list to only include functions\n",
    "functions = [m for m in members if inspect.isfunction(m[1])]\n",
    "\n",
    "# Print the names of the functions\n",
    "for name, obj in functions:\n",
    "    print(name)"
   ]
  },
  {
   "cell_type": "code",
   "execution_count": 5,
   "id": "e779991b-09fb-49f7-bfd8-3bdbea08abe9",
   "metadata": {},
   "outputs": [
    {
     "data": {
      "text/plain": [
       "\u001b[1;31mSignature:\u001b[0m \u001b[0manalyzeData\u001b[0m\u001b[1;33m(\u001b[0m\u001b[0ma\u001b[0m\u001b[1;33m:\u001b[0m \u001b[0mlist\u001b[0m\u001b[1;33m,\u001b[0m \u001b[0mstart\u001b[0m\u001b[1;33m:\u001b[0m \u001b[0mint\u001b[0m\u001b[1;33m,\u001b[0m \u001b[0mstop\u001b[0m\u001b[1;33m:\u001b[0m \u001b[0mint\u001b[0m\u001b[1;33m,\u001b[0m \u001b[0mh\u001b[0m\u001b[1;33m:\u001b[0m \u001b[0mint\u001b[0m\u001b[1;33m)\u001b[0m \u001b[1;33m->\u001b[0m \u001b[1;33m(\u001b[0m\u001b[1;33m<\u001b[0m\u001b[1;32mclass\u001b[0m \u001b[1;34m'dict'\u001b[0m\u001b[1;33m>\u001b[0m\u001b[1;33m,\u001b[0m \u001b[1;33m<\u001b[0m\u001b[1;32mclass\u001b[0m \u001b[1;34m'dict'\u001b[0m\u001b[1;33m>\u001b[0m\u001b[1;33m)\u001b[0m\u001b[1;33m\u001b[0m\u001b[1;33m\u001b[0m\u001b[0m\n",
       "\u001b[1;31mDocstring:\u001b[0m\n",
       "a: filelist\n",
       "start: starting file index\n",
       "stop: stopping file index, inclusive! should be file you want to end at\n",
       "h: half of the total number of indices to take for summing \n",
       "\n",
       "returns: dictionary of peaks, dictionary of sums \n",
       "\u001b[1;31mFile:\u001b[0m      c:\\users\\labusers\\desktop\\psiquantum\\code\\thirtysixpoints.py\n",
       "\u001b[1;31mType:\u001b[0m      function\n"
      ]
     },
     "metadata": {},
     "output_type": "display_data"
    }
   ],
   "source": [
    "analyzeData?"
   ]
  },
  {
   "cell_type": "code",
   "execution_count": 5,
   "id": "1f2f48bc-966c-465e-91a1-c3d7179d5531",
   "metadata": {},
   "outputs": [
    {
     "name": "stdout",
     "output_type": "stream",
     "text": [
      "Its ok! The setup is kind of hairy anyways... \n",
      "\n",
      "vnew1 corresponds to theta a on the decoder (so the phase shifter for the MZI). this corresponds to 'Dev1/ao1' \n",
      "\n",
      "vnew2 corresponds to theta s on the decoder (so the phase shifter in parallel with the delay line). this corresponds to 'Dev1/ao2' \n",
      "\n",
      "vnew11 corresponds to theta a on the encoder (so the phase shifter for the MZI). this corresponds to 'Dev1/ao11' \n",
      "\n",
      "vnew12 corresponds to theta s on the encoder (so the phase shifter in parallel with the delay line). this corresponds to 'Dev1/ao12' \n",
      "\n"
     ]
    }
   ],
   "source": [
    "iforgot()"
   ]
  },
  {
   "cell_type": "markdown",
   "id": "cbf23ae3-7b9c-4458-bc30-81259aca5895",
   "metadata": {
    "tags": []
   },
   "source": [
    "# Define Some Functions & Make Some Instrument Connections"
   ]
  },
  {
   "cell_type": "code",
   "execution_count": 21,
   "id": "fef6aac6-bf2a-43e0-8198-184826730cf5",
   "metadata": {},
   "outputs": [],
   "source": [
    "def changeVoltAO1(x):\n",
    "    global vnew1\n",
    "    vnew1 = x\n",
    "    with nidaqmx.Task() as task:\n",
    "        task.ao_channels.add_ao_voltage_chan(\"Dev1/ao1\")\n",
    "        task.write([vnew1], auto_start = True)\n",
    "        \n",
    "def changeVoltAO2(x):\n",
    "    global vnew2\n",
    "    vnew2 = x\n",
    "    with nidaqmx.Task() as task:\n",
    "        task.ao_channels.add_ao_voltage_chan(\"Dev1/ao2\")\n",
    "        task.write([vnew2], auto_start = True)\n",
    "\n",
    "def changeVoltAO4(x):\n",
    "    global vnew4\n",
    "    vnew4 = x\n",
    "    with nidaqmx.Task() as task:\n",
    "        task.ao_channels.add_ao_voltage_chan(\"Dev1/ao4\")\n",
    "        task.write([vnew4], auto_start = True)\n",
    "        \n",
    "def changeVoltAO11(x):\n",
    "    global vnew11\n",
    "    vnew11 = x\n",
    "    with nidaqmx.Task() as task:\n",
    "        task.ao_channels.add_ao_voltage_chan(\"Dev1/ao11\")\n",
    "        task.write([vnew11], auto_start = True)\n",
    "        \n",
    "def changeVoltAO12(x):\n",
    "    global vnew12\n",
    "    vnew12 = x\n",
    "    with nidaqmx.Task() as task:\n",
    "        task.ao_channels.add_ao_voltage_chan(\"Dev1/ao12\")\n",
    "        task.write([vnew12], auto_start = True)\n",
    "\n",
    "def changeVoltAO14(x):\n",
    "    global vnew14\n",
    "    vnew14 = x\n",
    "    with nidaqmx.Task() as task:\n",
    "        task.ao_channels.add_ao_voltage_chan(\"Dev1/ao14\")\n",
    "        task.write([vnew14], auto_start = True)"
   ]
  },
  {
   "cell_type": "code",
   "execution_count": 22,
   "id": "1096e291-4d8e-445f-87e5-d1bd0f3c2bbf",
   "metadata": {},
   "outputs": [
    {
     "name": "stdout",
     "output_type": "stream",
     "text": [
      "Device(name=Dev1)\n"
     ]
    }
   ],
   "source": [
    "system = nidaqmx.system.System.local()\n",
    "for device in system.devices:\n",
    "    print(device)"
   ]
  },
  {
   "cell_type": "code",
   "execution_count": 23,
   "id": "5fd16c85-0d3d-452f-ad76-2be0d8d5f4ec",
   "metadata": {},
   "outputs": [],
   "source": [
    "rm = visa.ResourceManager() \n",
    "scope = rm.open_resource('TCPIP0::10.10.21.228::inst0::INSTR')"
   ]
  },
  {
   "cell_type": "code",
   "execution_count": 24,
   "id": "11ec8a46-3a9c-4318-a962-654936225d9e",
   "metadata": {},
   "outputs": [],
   "source": [
    "dtb = interactive(changeVoltAO4, x = widgets.FloatSlider(value= 0.5, min= 10/30, max= 20/30, step=0.0003,\n",
    "                                                         description='Decoder Theta B:', disabled=False, continuous_update= True,\n",
    "                                                         orientation='horizontal', readout=True, readout_format='.4e', style={'description_width':'initial', 'handle_color': 'blue'}))\n",
    "\n",
    "dta = interactive(changeVoltAO1, x = widgets.FloatSlider(value= 0.5, min= 10/30, max= 20/30, step = 0.0003,\n",
    "                                                         description='Decoder Theta A:', disabled=False, continuous_update= True,\n",
    "                                                         orientation='horizontal', readout=True, readout_format='.4e', style={'description_width':'initial', 'handle_color': 'blue'}))\n",
    "\n",
    "dts = interactive(changeVoltAO2, x = widgets.FloatSlider(value= 0.5, min= 10/30, max= 20/30, step=0.0003,\n",
    "                                                         description='Decoder Theta S:', disabled=False, continuous_update= True,\n",
    "                                                         orientation='horizontal', readout=True, readout_format='.4e',style={'description_width':'initial', 'handle_color': 'blue'}))\n",
    "\n",
    "etb = interactive(changeVoltAO14, x = widgets.FloatSlider(value= 0.5, min= 10/30, max= 20/30, step=0.0003,\n",
    "                                                          description='Encoder Theta B:', disabled=False, continuous_update= True,\n",
    "                                                          orientation='horizontal', readout=True, readout_format='.4e', style={'description_width':'initial', 'handle_color': 'red'}))\n",
    "\n",
    "eta = interactive(changeVoltAO11, x = widgets.FloatSlider(value= 0.5, min= 10/30, max= 20/30, step = 0.0003,\n",
    "                                                          description='Encoder Theta A:', disabled=False, continuous_update= True,\n",
    "                                                          orientation='horizontal', readout=True, readout_format='.4e', style={'description_width':'initial', 'handle_color': 'red'}))\n",
    "\n",
    "\n",
    "ets = interactive(changeVoltAO12, x = widgets.FloatSlider(value= 0.5, min= 10/30, max= 20/30, step=0.0003,\n",
    "                                                          description='Encoder Theta S:', disabled=False, continuous_update= True,\n",
    "                                                          orientation='horizontal', readout=True, readout_format='.4e', style={'description_width':'initial', 'handle_color': 'red'}))\n",
    "\n"
   ]
  },
  {
   "cell_type": "markdown",
   "id": "01628593-d526-449c-9b19-b2eb10827fa7",
   "metadata": {},
   "source": [
    "# Make the Widgets"
   ]
  },
  {
   "cell_type": "code",
   "execution_count": 25,
   "id": "54663cd3-e935-409f-8769-580fda17bbeb",
   "metadata": {},
   "outputs": [],
   "source": [
    "layout = widgets.Layout(width='auto', height='40px')"
   ]
  },
  {
   "cell_type": "code",
   "execution_count": 26,
   "id": "dff04db8-855e-4d75-851a-79e86d185bc0",
   "metadata": {},
   "outputs": [],
   "source": [
    "# widget initialization for phase shifter control \n",
    "biasLogBox = widgets.Textarea(layout=widgets.Layout(height='100px', width='50%'))\n",
    "biasHandler = widgets.VBox([widgets.HBox([widgets.VBox([eta, ets, etb]), widgets.VBox([dta, dts, dtb])])])"
   ]
  },
  {
   "cell_type": "code",
   "execution_count": 27,
   "id": "7731bdb3-68ed-4523-98b1-97cf8682d29d",
   "metadata": {},
   "outputs": [],
   "source": [
    "# save as csv file button \n",
    "\n",
    "csvButton = widgets.Button(description = 'Save As CSV', style = {'description_width': 'initial'}) \n",
    "csvBox = widgets.Output() \n",
    "output_text = widgets.Text()\n",
    "input_text = widgets.Text(description = 'Settings + Code [e.g. \"36Points_E3D3\", MUST SAVE WITH UNDERSCORE + CODE (E#D#)....PRESS ENTER TO SUBMIT]: ', style = {'description_width': 'initial'} , layout = layout)\n",
    "\n",
    "def bind_input_to_output(sender):\n",
    "    output_text.value = input_text.value\n",
    "\n",
    "input_text.on_submit(bind_input_to_output)\n",
    "\n",
    "def csvButtonHandler(f):\n",
    "    with csvBox:\n",
    "        file = filename(vnew11, vnew12, vnew1, vnew2, '', output_text.value)\n",
    "        df = oscopePlotButton.avg\n",
    "        df.to_csv(file) \n",
    "        \n",
    "csvButton.on_click(csvButtonHandler)\n",
    "csvHandler = widgets.VBox([input_text, csvButton, csvBox])\n",
    "        \n",
    "    "
   ]
  },
  {
   "cell_type": "code",
   "execution_count": 28,
   "id": "6622ec07-1ca4-4a32-b46c-06585086e9b8",
   "metadata": {},
   "outputs": [],
   "source": [
    "# initiate your oscillscope settings! \n",
    "tstep = 0.2e-9 \n",
    "vstepT = 2e-3 #1e-3\n",
    "vstepB = 2e-3 #1e-3\n",
    "pts = 256 \n",
    "avg = 64\n",
    "N = 5\n",
    "oscopetest = oscope(scope, tstep, vstepT, vstepB, pts, avg, N, 'hide')"
   ]
  },
  {
   "cell_type": "code",
   "execution_count": 29,
   "id": "458e08fb-874f-4f17-88a1-ed2035ba831a",
   "metadata": {},
   "outputs": [
    {
     "data": {
      "application/vnd.jupyter.widget-view+json": {
       "model_id": "7a8cb726e57147f196d89cb79b9f8e94",
       "version_major": 2,
       "version_minor": 0
      },
      "text/plain": [
       "VBox(children=(Label(value=''), Accordion(children=(VBox(children=(HBox(children=(VBox(children=(interactive(c…"
      ]
     },
     "metadata": {},
     "output_type": "display_data"
    },
    {
     "data": {
      "application/vnd.jupyter.widget-view+json": {
       "model_id": "9a5c02d13ec74d9691dda74ff4d2676e",
       "version_major": 2,
       "version_minor": 0
      },
      "text/plain": [
       "Output()"
      ]
     },
     "metadata": {},
     "output_type": "display_data"
    }
   ],
   "source": [
    "# widget initialization for oscope button control \n",
    "\n",
    "class LoadedButton(widgets.Button):\n",
    "    \"\"\"A button that can holds a value as a attribute.\"\"\"\n",
    "\n",
    "    def __init__(self, value=None, *args, **kwargs):\n",
    "        super(LoadedButton, self).__init__(*args, **kwargs)\n",
    "        # Create the value attribute.\n",
    "        self.add_traits(value=traitlets.Any(value))\n",
    "\n",
    "oscopePlotBox = widgets.Output() \n",
    "oscopePlotButton = LoadedButton(description = 'Grab & Plot', style = {'description_width':'initial'}) \n",
    "\n",
    "def oscopePlotButtonHandler(ex):  \n",
    "    with oscopePlotBox: \n",
    "        times, dataTop, dataBottom, avgTop, avgBottom = oscopeTEST.grab() \n",
    "        plt.close('all') \n",
    "        oscopePlotBox.clear_output() \n",
    "        plt.figure(figsize = (14, 8))\n",
    "        plt.plot(times, avgTop, label = 'Ch 2 Avg', color = 'tab:green')\n",
    "        plt.plot(times, avgBottom, label = 'Ch 3 Avg', color = 'tab:blue') \n",
    "        plt.xlabel('Time (ns)') \n",
    "        plt.ylabel('Voltage (V)') \n",
    "        plt.grid(which = 'both')\n",
    "        plt.grid(which = 'minor')\n",
    "        plt.grid(visible=True, which='minor', color='r', linestyle='--')\n",
    "        plt.legend() \n",
    "        plt.show() \n",
    "    ex.avg = pd.DataFrame({'Time': times, 'Top': avgTop, 'Bottom': avgBottom}) \n",
    "    ex.topmatrix = dataTop\n",
    "    ex.bottommattrix = dataBottom\n",
    "\n",
    "oscopePlotButton.on_click(oscopePlotButtonHandler)\n",
    "oscopeControlHandler = widgets.VBox([widgets.HBox([oscopePlotButton]), oscopePlotBox])\n",
    "\n",
    "# start the accordion \n",
    "AccordHandler = widgets.Accordion(children=[biasHandler, oscopeControlHandler, csvHandler])\n",
    "AccordHandler.set_title(0, 'Bias the Phase Shifters')\n",
    "AccordHandler.set_title(1, 'Oscilloscope Plot')\n",
    "AccordHandler.set_title(2, 'Save As CSV') \n",
    "outputMain = widgets.Output() \n",
    "display(\n",
    "    widgets.VBox([widgets.Label(''),\n",
    "        AccordHandler]), \n",
    "    outputMain)\n",
    "\n",
    "\n",
    "# need to add oscope initiation, hdf5 & csv save, run the whole thing button "
   ]
  },
  {
   "cell_type": "code",
   "execution_count": 32,
   "id": "33443712-d397-4589-a4d1-90870565440b",
   "metadata": {},
   "outputs": [],
   "source": [
    "# widget initialization for save as csv file button, for pretunings \n",
    "\n",
    "csvPretuneButton = widgets.Button(description = 'Save As CSV', style = {'description_width': 'initial'}) \n",
    "csvPretuneBox = widgets.Output() \n",
    "output_pretune_text = widgets.Text()\n",
    "input_pretune_text = widgets.Text(description = 'Settings + Code [e.g. \"PretuneEThetaA_E3D1D3\", MUST SAVE WITH UNDERSCORE + CODE (E#D#)]: ', style = {'description_width': 'initial'} , layout = layout)\n",
    "\n",
    "def bind_pretune_input_to_output(sender):\n",
    "    output_pretune_text.value = input_pretune_text.value\n",
    "\n",
    "input_pretune_text.on_submit(bind_pretune_input_to_output)\n",
    "\n",
    "def csvPretuneButtonHandler(f):\n",
    "    with csvPretuneBox:\n",
    "        file = filename(vnew11, vnew12, vnew1, vnew2, '', output_pretune_text.value)\n",
    "        df = pretunePlotButton.peaks #change this \n",
    "        df.to_csv(file) \n",
    "        \n",
    "csvPretuneButton.on_click(csvPretuneButtonHandler)\n",
    "csvPretuneHandler = widgets.VBox([input_pretune_text, csvPretuneButton, csvPretuneBox])"
   ]
  },
  {
   "cell_type": "code",
   "execution_count": 33,
   "id": "883c4ff9-c277-4aab-a775-f8896db64159",
   "metadata": {},
   "outputs": [],
   "source": [
    "# widget initialization for pretuning settings \n",
    "\n",
    "phaseshifter = widgets.Dropdown(description = 'Phase Shifter:', options = ['dthetaa', 'dthetas', 'ethetaa', 'ethetas'])\n",
    "startVoltage = widgets.FloatSlider(value= 0.5, min= 10/30, max= 20/30, step=0.0003,\n",
    "                                                          description='Bias Voltage Sweep Start:', disabled=False, continuous_update= True,\n",
    "                                                          orientation='horizontal', readout=True, readout_format='.4e', style={'description_width':'initial', 'handle_color': 'green'})\n",
    "\n",
    "stopVoltage = widgets.FloatSlider(value= 0.5, min= 10/30, max= 20/30, step=0.0003,\n",
    "                                                          description='Bias Voltage Sweep Stop:', disabled=False, continuous_update= True,\n",
    "                                                          orientation='horizontal', readout=True, readout_format='.4e', style={'description_width':'initial', 'handle_color': 'green'})\n",
    "\n",
    "npts = widgets.IntSlider(value = 3, min = 5, max = 50, step = 1,\n",
    "                         description = 'Number of Points for Sweep', disabled=False, continuous_update= True,\n",
    "                         orientation='horizontal', readout=True, style={'description_width':'initial', 'handle_color': 'purple'})\n",
    "    \n",
    "\n",
    "pretuneInputsHandler = widgets.VBox([phaseshifter, npts, startVoltage, stopVoltage])"
   ]
  },
  {
   "cell_type": "code",
   "execution_count": 34,
   "id": "000a45d2-d745-4bbd-984d-3fac3f922b88",
   "metadata": {},
   "outputs": [
    {
     "data": {
      "application/vnd.jupyter.widget-view+json": {
       "model_id": "93c99818cbff404eb39a512431d44f4d",
       "version_major": 2,
       "version_minor": 0
      },
      "text/plain": [
       "VBox(children=(Label(value=''), Accordion(children=(VBox(children=(VBox(children=(Dropdown(description='Phase …"
      ]
     },
     "metadata": {},
     "output_type": "display_data"
    },
    {
     "data": {
      "application/vnd.jupyter.widget-view+json": {
       "model_id": "1bbc236eaf654aa8821a06addb07d681",
       "version_major": 2,
       "version_minor": 0
      },
      "text/plain": [
       "Output()"
      ]
     },
     "metadata": {},
     "output_type": "display_data"
    }
   ],
   "source": [
    "# widget initialization for pretune plot \n",
    "\n",
    "class LoadedButton(widgets.Button):\n",
    "    \"\"\"A button that can holds a value as a attribute.\"\"\"\n",
    "\n",
    "    def __init__(self, value=None, *args, **kwargs):\n",
    "        super(LoadedButton, self).__init__(*args, **kwargs)\n",
    "        # Create the value attribute.\n",
    "        self.add_traits(value=traitlets.Any(value))\n",
    "        \n",
    "pretunePlotBox = widgets.Output() \n",
    "pretunePlotButton = LoadedButton(description = 'Pretune & Plot') \n",
    "\n",
    "def pretunePlotButtonHandler(h): \n",
    "    with pretunePlotBox: \n",
    "        vrange = (startVoltage.value, stopVoltage.value)\n",
    "        holdsettings = {'dthetas': vnew2, 'dthetaa': vnew1, 'ethetaa': vnew11, 'ethetas': vnew12}\n",
    "        voltages, times, avgTopMatrix, avgBottomMatrix = pretune(phaseshifter.value, holdsettings, vrange, npts.value, oscopeTEST)\n",
    "        plt.close('all') \n",
    "        pretunePlotBox.clear_output() \n",
    "        plt.figure(figsize = (14, 8))\n",
    "        topMax = [max(avgTopMatrix[i, :]) for i in range(np.shape(avgTopMatrix)[0])]\n",
    "        bottomMax = [max(avgBottomMatrix[i, :]) for i in range(np.shape(avgBottomMatrix)[0])]\n",
    "\n",
    "        plt.plot(voltages, topMax, label = 'Ch 2 Avg', color = 'tab:green')\n",
    "        plt.plot(voltages, bottomMax, label = 'Ch 3 Avg', color = 'tab:blue') \n",
    "        plt.xlabel('Bias Voltage (V)') \n",
    "        plt.ylabel('Peak Voltage (V)') \n",
    "        plt.grid(which = 'both')\n",
    "        plt.grid(which = 'minor')\n",
    "        plt.grid(visible=True, which='minor', color='r', linestyle='--')\n",
    "        plt.legend() \n",
    "        plt.show() \n",
    "    h.avgmatrix = pd.DataFrame({'Time': times, 'Top': avgTopMatrix, 'Bottom': avgBottomMatrix}) \n",
    "    h.peaks = pd.DataFrame({'Voltage': voltages, 'Top': topMax, 'Bottom': bottomMax})\n",
    "    \n",
    "pretunePlotButton.on_click(pretunePlotButtonHandler)\n",
    "pretuneControlHandler = widgets.VBox([pretuneInputsHandler, widgets.HBox([pretunePlotButton, pretunePlotBox])]) \n",
    "\n",
    "\n",
    "## all accordion\n",
    "AccordHandler = widgets.Accordion(children=[ pretuneControlHandler, csvPretuneHandler])\n",
    "AccordHandler.set_title(0, 'Pretune the Phase Shifters')\n",
    "AccordHandler.set_title(1, 'Save As CSV') \n",
    "outputMain = widgets.Output() \n",
    "display(\n",
    "    widgets.VBox([widgets.Label(''),\n",
    "        AccordHandler]), \n",
    "    outputMain)\n"
   ]
  }
 ],
 "metadata": {
  "kernelspec": {
   "display_name": "Python 3 (ipykernel)",
   "language": "python",
   "name": "python3"
  },
  "language_info": {
   "codemirror_mode": {
    "name": "ipython",
    "version": 3
   },
   "file_extension": ".py",
   "mimetype": "text/x-python",
   "name": "python",
   "nbconvert_exporter": "python",
   "pygments_lexer": "ipython3",
   "version": "3.9.13"
  }
 },
 "nbformat": 4,
 "nbformat_minor": 5
}
