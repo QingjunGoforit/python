{
 "cells": [
  {
   "cell_type": "code",
   "execution_count": 1,
   "metadata": {},
   "outputs": [],
   "source": [
    "from datetime import datetime\n",
    "import csv\n",
    "import time\n"
   ]
  },
  {
   "cell_type": "code",
   "execution_count": null,
   "metadata": {},
   "outputs": [],
   "source": [
    "#create file\n",
    "filename=r'C:\\Users\\LABUSERS\\Desktop\\phase compensation\\PM fiber stretcher_peizo\\characterization_V_P_Stokes.cvs'\n",
    "with open(filename, 'w') as creating_new_csv_file: \n",
    "   pass \n",
    "#The with statement ensures that the file is properly closed after the code block is executed. The pass statement is a placeholder that doesn't do anything; it's used here to fulfill the syntax requirements of the with block.\n",
    "print(\"Empty File Created Successfully\")"
   ]
  },
  {
   "cell_type": "code",
   "execution_count": null,
   "metadata": {},
   "outputs": [],
   "source": [
    "# Open a CSV file for writing\n",
    "# read and record the data into array first; append the data as arrays, and zip them, then write them per line\n",
    "# read and record the data into array first; append the data as arrays, then write them per line\n",
    "\n",
    "# temperature recording As an example\n",
    "import datetime\n",
    "import numpy as np\n",
    "\n",
    "\n",
    "dataTime, dataTemperature,datatempset, datasettime = [], [], [], []\n",
    "array_of_temp=np.arange(45,50.1,0.1)\n",
    "#array_of_steps= np.linspace(0, 5, 5)+ temp_o\n",
    "#array_of_temp=array_of_steps+temp_o\n",
    "for i in range(len(array_of_temp)):\n",
    "    for j in range(0,600,1):\n",
    "        datatempset.append(array_of_temp[i])\n",
    "        datasettime.append(datetime.now())         \n",
    "        dataTemperature.append(tempRead)\n",
    "        dataTime.append(datetime.now())   \n",
    "        time.sleep(1)\n",
    "\n",
    "#write\n",
    "with open(filename, \"w\", newline='') as csvfile:\n",
    "    csv_writer = csv.writer(csvfile)\n",
    "    csv_writer.writerow([\"time1\",'temp','time2','temp_set','elapsed_sec']) #the first row\n",
    "    for row in zip(dataTimef, dataTemperature,datasettimef,datatempset,elapsed_time1_sec):\n",
    "        csv_writer.writerow(row)\n",
    "    #for i in range(len(dataVolt)-1): \n",
    "    #    csv_writer.writerow([dataVolt[i+1]*30, Power[i+1],Stokes1[i+1], Stokes2[i+1], Stokes3[i+1]]) "
   ]
  },
  {
   "cell_type": "code",
   "execution_count": null,
   "metadata": {},
   "outputs": [],
   "source": [
    "# write the file while reading the data; logger per minute\n",
    "#keysight polarization analyzer as example\n",
    "x=1\n",
    "while x<=number_minutes:\n",
    " now=datetime.datetime.now()\n",
    " if now.second<10:\n",
    "    SOP=inst.query(\":POLarimeter:SOP?\")\n",
    "    SOParr=SOP.split(',')\n",
    "    S0=float(SOParr[0])\n",
    "    S1=float(SOParr[1])\n",
    "    S2=float(SOParr[2])\n",
    "    S3=float(SOParr[3])\n",
    "    phi=numpy.rad2deg(numpy.arctan2(S2,S1))/2\n",
    "    khi=numpy.rad2deg(numpy.arctan2(S3,math.sqrt(S1**2+S2**2)))\n",
    "    ##### math.atan() returns -pi/2 to pi/2\n",
    "    with open(filename, 'a',newline='') as f:\n",
    "     writer_object = csv.writer(f)\n",
    "     writer_object.writerow([now,S0,S1,S2,S3,phi,khi])\n",
    "    time.sleep(30)\n",
    "    x=x+1\n",
    " elif now.second>=10:\n",
    "    time.sleep(1)"
   ]
  },
  {
   "cell_type": "code",
   "execution_count": null,
   "metadata": {},
   "outputs": [],
   "source": [
    "# #calculate elapsed time\n",
    "elapsed_time1=[]\n",
    "elapsed_time1_sec=[]\n",
    "for i in range(len(dataTime)):\n",
    "    elapsed_time1.append(dataTime[i] - dataTime[0])\n",
    "    elapsed_time1_sec.append(elapsed_time1[i].total_seconds())\n",
    "print(elapsed_time1_sec)"
   ]
  }
 ],
 "metadata": {
  "kernelspec": {
   "display_name": "Python 3",
   "language": "python",
   "name": "python3"
  },
  "language_info": {
   "codemirror_mode": {
    "name": "ipython",
    "version": 3
   },
   "file_extension": ".py",
   "mimetype": "text/x-python",
   "name": "python",
   "nbconvert_exporter": "python",
   "pygments_lexer": "ipython3",
   "version": "3.10.11"
  },
  "orig_nbformat": 4,
  "vscode": {
   "interpreter": {
    "hash": "cc9fd6dd744e3b5d367a1c11e30d546e6435580a44b424cf475e1777bddb2098"
   }
  }
 },
 "nbformat": 4,
 "nbformat_minor": 2
}
