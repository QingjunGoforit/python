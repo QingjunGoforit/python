{
 "cells": [
  {
   "cell_type": "code",
   "execution_count": null,
   "metadata": {},
   "outputs": [],
   "source": [
    "#read stokes paramter from file, used for later analysis\n",
    "\n",
    "import csv\n",
    "from collections import defaultdict\n",
    "import matplotlib.pyplot as plt\n",
    "import pandas as pd\n",
    "import os\n",
    "\n",
    "#name=r\"C:\\Users\\LABUSERS\\Documents\\Thorlabs\\PAX1000\\Sample_SM2m_0320_2am_5pm.csv\"\n",
    "filename=\"/Volumes/Shared/AdvancedInterconnects/Qingjun/phase compensation/SM fiber strecther_thermal/PAX/0803_0141PM_40m_SMF_themal_thermal _conrol.csv\"\n",
    "print(filename)\n",
    "data = pd.read_csv(filename,encoding= 'unicode_escape',names=['','','',''],skiprows=[],header=None) \n",
    "#names: Specifies the column names to be used for the DataFrame.\n",
    "Stokes1= data[' Normalized s 1 '].tolist()\n",
    "Stokes2= data[' Normalized s 2 '].tolist()\n",
    "Stokes3= data[' Normalized s 3 '].tolist()\n",
    "S0= data[' S 0 [mW]'].tolist()"
   ]
  },
  {
   "cell_type": "code",
   "execution_count": null,
   "metadata": {},
   "outputs": [],
   "source": [
    "#read from excel, convert to CSV file\n",
    "temp_filename='/omega_d0817_0341pm.xlsx' ; #just copy the file name, should be format tempinvolt_dxxxx_XXam_xxam\n",
    "temp_path='Z:\\AdvancedInterconnects\\Qingjun\\phase measurement quadrature\\omega temp'\n",
    "fileNameTemp=temp_path+ temp_filename\n",
    "\n",
    "if not os.path.isfile(fileNameTemp + '.csv'):\n",
    "    #os.path.isfile() function\n",
    "    print('temp file not found...create csv file')    \n",
    "    read_file = pd.read_excel (fileNameTemp)\n",
    "    #reads the Excel file into a Pandas DataFrame, allowing you to work with the data using the DataFrame's methods and properties.\n",
    "    read_file.to_csv (fileNameTemp + '.csv', index = None, header=True)\n",
    "    #converts a Pandas DataFrame (read_file) into a CSV file using the to_csv() function.\n",
    "else: \n",
    "    print('temp file found')    \n",
    "\n",
    "dataFrameTemp = pd.read_csv(fileNameTemp + '.csv', names=['DateTime1', 'DateTime2', 'ambient Temperature [C]','couple Temperature [C]'], skiprows=[0,1,2,3,4,5,6], header=None)\n",
    "#names: Specifies the column names to be used for the DataFrame.\n",
    "xPlotTemp = [datetime.datetime.strptime(i, '%Y-%m-%d %H:%M:%S') for i in dataFrameTemp['DateTime1']]\n",
    "#For each value (which is assumed to be in the format 'YYYY-MM-DD HH:MM:SS'), it uses strptime to parse it into a datetime object\n",
    "yPlotTemp = dataFrameTemp['ambient Temperature [C]']\n"
   ]
  }
 ],
 "metadata": {
  "kernelspec": {
   "display_name": "Python 3",
   "language": "python",
   "name": "python3"
  },
  "language_info": {
   "name": "python",
   "version": "3.10.11"
  },
  "orig_nbformat": 4,
  "vscode": {
   "interpreter": {
    "hash": "cc9fd6dd744e3b5d367a1c11e30d546e6435580a44b424cf475e1777bddb2098"
   }
  }
 },
 "nbformat": 4,
 "nbformat_minor": 2
}
