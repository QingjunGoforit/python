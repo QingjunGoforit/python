{
 "cells": [
  {
   "cell_type": "code",
   "execution_count": null,
   "metadata": {},
   "outputs": [],
   "source": [
    "#import list\n",
    "%matplotlib widget\n",
    "import matplotlib.pyplot as plt\n",
    "import numpy as np\n",
    "import cmath\n",
    "import math\n",
    "import csv\n",
    "import matplotlib.pyplot as plt\n",
    "import matplotlib.dates as mdates\n",
    "from matplotlib import cm\n",
    "import pandas as pd\n",
    "import time\n",
    "import pyvisa\n",
    "import random\n",
    "import ipywidgets as widgets\n",
    "import datetime\n",
    "import os\n",
    "import psutil\n",
    "import threading\n",
    "import asyncio\n",
    "import nidaqmx as ni\n",
    "from ctypes import *\n",
    "from nidaqmx import constants\n",
    "import struct\n",
    "import bisect\n",
    "from scipy.optimize import curve_fit, leastsq\n",
    "from scipy.signal import find_peaks, find_peaks_cwt"
   ]
  }
 ],
 "metadata": {
  "kernelspec": {
   "display_name": "Python 3",
   "language": "python",
   "name": "python3"
  },
  "language_info": {
   "name": "python",
   "version": "3.10.11"
  },
  "orig_nbformat": 4,
  "vscode": {
   "interpreter": {
    "hash": "cc9fd6dd744e3b5d367a1c11e30d546e6435580a44b424cf475e1777bddb2098"
   }
  }
 },
 "nbformat": 4,
 "nbformat_minor": 2
}
