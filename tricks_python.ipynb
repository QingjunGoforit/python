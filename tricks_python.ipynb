{
 "cells": [
  {
   "cell_type": "code",
   "execution_count": null,
   "metadata": {},
   "outputs": [],
   "source": [
    "#print:\n",
    "name = \"John\"\n",
    "age = 30\n",
    "\n",
    "# Using an f-string to combine text and numbers\n",
    "print(f\"My name is {name} and I am {age} years old.\")"
   ]
  }
 ],
 "metadata": {
  "kernelspec": {
   "display_name": "Python 3",
   "language": "python",
   "name": "python3"
  },
  "language_info": {
   "name": "python",
   "version": "3.10.11"
  },
  "orig_nbformat": 4,
  "vscode": {
   "interpreter": {
    "hash": "cc9fd6dd744e3b5d367a1c11e30d546e6435580a44b424cf475e1777bddb2098"
   }
  }
 },
 "nbformat": 4,
 "nbformat_minor": 2
}
